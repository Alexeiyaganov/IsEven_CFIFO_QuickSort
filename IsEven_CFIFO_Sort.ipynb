{
 "cells": [
  {
   "cell_type": "markdown",
   "id": "805cb358",
   "metadata": {},
   "source": [
    "1. На языке Python реализовать алгоритм (функцию) определения четности целого числа:"
   ]
  },
  {
   "cell_type": "markdown",
   "id": "b988e87f",
   "metadata": {},
   "source": [
    "Функция, которая дана в условии:"
   ]
  },
  {
   "cell_type": "code",
   "execution_count": 2,
   "id": "6e762a9e",
   "metadata": {},
   "outputs": [],
   "source": [
    "def isEven(value):return value%2==0"
   ]
  },
  {
   "cell_type": "markdown",
   "id": "3f6eb440",
   "metadata": {},
   "source": [
    "Новая более медленная функция"
   ]
  },
  {
   "cell_type": "code",
   "execution_count": 33,
   "id": "c33e24f8",
   "metadata": {},
   "outputs": [],
   "source": [
    "def isEvenNewly(value):return value == (value >> 1 << 1)"
   ]
  },
  {
   "cell_type": "markdown",
   "id": "79cc1cfe",
   "metadata": {},
   "source": [
    "Ноая более быстрая функция"
   ]
  },
  {
   "cell_type": "code",
   "execution_count": 5,
   "id": "955bbcfb",
   "metadata": {},
   "outputs": [],
   "source": [
    "def isEvenNew(value):return not value & 1"
   ]
  },
  {
   "cell_type": "markdown",
   "id": "e85d85d5",
   "metadata": {},
   "source": [
    "Тестирование времени выполнения"
   ]
  },
  {
   "cell_type": "code",
   "execution_count": 30,
   "id": "ea9ece60",
   "metadata": {},
   "outputs": [
    {
     "name": "stdout",
     "output_type": "stream",
     "text": [
      "241 ns ± 4.15 ns per loop (mean ± std. dev. of 7 runs, 1000000 loops each)\n"
     ]
    }
   ],
   "source": [
    "%%timeit\n",
    "isEven(123456780000022)"
   ]
  },
  {
   "cell_type": "code",
   "execution_count": 36,
   "id": "e96276d2",
   "metadata": {},
   "outputs": [
    {
     "name": "stdout",
     "output_type": "stream",
     "text": [
      "276 ns ± 4.23 ns per loop (mean ± std. dev. of 7 runs, 1000000 loops each)\n"
     ]
    }
   ],
   "source": [
    "%%timeit\n",
    "isEvenNewly(123456780000022)"
   ]
  },
  {
   "cell_type": "code",
   "execution_count": 38,
   "id": "4d9428ab",
   "metadata": {},
   "outputs": [
    {
     "name": "stdout",
     "output_type": "stream",
     "text": [
      "206 ns ± 3.95 ns per loop (mean ± std. dev. of 7 runs, 1000000 loops each)\n"
     ]
    }
   ],
   "source": [
    "%%timeit\n",
    "isEvenNew(123456780000022)"
   ]
  },
  {
   "cell_type": "markdown",
   "id": "031c41c5",
   "metadata": {},
   "source": [
    "Последняя реализация требует меньшего времени выполнения"
   ]
  },
  {
   "cell_type": "markdown",
   "id": "a40f034d",
   "metadata": {},
   "source": [
    "2. На языке Python (2.7) реализовать минимум по 2 класса реализовывающих циклический буфер FIFO."
   ]
  },
  {
   "cell_type": "code",
   "execution_count": null,
   "id": "90ef174a",
   "metadata": {},
   "outputs": [],
   "source": [
    "Первый вариант очереди"
   ]
  },
  {
   "cell_type": "code",
   "execution_count": 86,
   "id": "21676c04",
   "metadata": {},
   "outputs": [],
   "source": [
    "class circularQueue:\n",
    "    def __init__(self, capacity):\n",
    "        self.capacity=capacity\n",
    "        self.queue=[None]*capacity\n",
    "        self.tail=-1\n",
    "        self.head=0\n",
    "        self.size=0\n",
    "        \n",
    "    def enqueue(self,item):\n",
    "        if self.size==self.capacity:\n",
    "            print(\"Error: Queue is Full\")\n",
    "            \n",
    "        else:\n",
    "            self.tail=(self.tail +1)%self.capacity\n",
    "            self.queue[self.tail]=item\n",
    "            self.size+=1\n",
    "            \n",
    "    def dequeue(self):\n",
    "        if self.size==0:\n",
    "            print(\"Error: Queue is Empty\")\n",
    "            return\n",
    "        \n",
    "        else:\n",
    "            tmp=self.queue[self.head]\n",
    "            self.head=(self.head+1)%self.capacity\n",
    "            \n",
    "        self.size-=1\n",
    "        return tmp\n",
    "    def print_cq(self):\n",
    "        if self.size==0:\n",
    "            print(\"Queue id Empty \\n\")\n",
    "        else:\n",
    "            index=self.head\n",
    "            \n",
    "            for i in range(self.size):\n",
    "                print(self.queue[index]),\n",
    "                index=(index+1)%self.capacity\n",
    "            print(\"\")"
   ]
  },
  {
   "cell_type": "code",
   "execution_count": 87,
   "id": "8e72dc4a",
   "metadata": {
    "scrolled": true
   },
   "outputs": [
    {
     "name": "stdout",
     "output_type": "stream",
     "text": [
      "0 1 2 3 4 5 \n",
      "1 2 3 4 5 \n",
      "2 3 4 5 \n",
      "2 3 4 5 20 \n",
      "Wall time: 1.97 ms\n"
     ]
    }
   ],
   "source": [
    "%%time\n",
    "object_queue=circularQueue(10)\n",
    "object_queue.enqueue(0)\n",
    "object_queue.enqueue(1)\n",
    "object_queue.enqueue(2)\n",
    "object_queue.enqueue(3)\n",
    "object_queue.enqueue(4)\n",
    "object_queue.enqueue(5)\n",
    "object_queue.print_cq()\n",
    "object_queue.dequeue()\n",
    "object_queue.print_cq()\n",
    "object_queue.dequeue()\n",
    "object_queue.print_cq()\n",
    "object_queue.enqueue(20)\n",
    "object_queue.print_cq()"
   ]
  },
  {
   "cell_type": "code",
   "execution_count": 42,
   "id": "6876cfa3",
   "metadata": {},
   "outputs": [],
   "source": [
    "class Node:\n",
    "    def __init__(self, data = None):\n",
    "        self.data = data\n",
    "        self.next = None"
   ]
  },
  {
   "cell_type": "code",
   "execution_count": 74,
   "id": "590b74e1",
   "metadata": {},
   "outputs": [],
   "source": [
    "class circularQueue1:\n",
    "    def __init__(self, capacity):\n",
    "        j=Node()\n",
    "        self.head=self.tail=j\n",
    "        for _ in range(capacity-1):\n",
    "            k= Node()\n",
    "            j.next = k\n",
    "            j=k\n",
    "        j.next=self.head\n",
    "        \n",
    "        \n",
    "    def enqueue(self,item):\n",
    "        if self.tail.next==self.head:\n",
    "            print(\"Error: Queue is Full\")\n",
    "        else:\n",
    "            k=self.tail\n",
    "            self.tail=k.next\n",
    "            k.data=item\n",
    "    def dequeue(self):\n",
    "        if self.head==self.tail:\n",
    "            print(\"Error: Queue is Empty\") \n",
    "        else:\n",
    "            k=self.head\n",
    "            self.head=k.next\n",
    "            \n",
    "    def print_cq(self):\n",
    "        if self.head==self.tail:\n",
    "            print(\"Queue is Empty \\n\")\n",
    "        else:\n",
    "            k=self.head\n",
    "            \n",
    "            while k!=self.tail:\n",
    "                print(k.data),\n",
    "                k=k.next\n",
    "            print(\"\")"
   ]
  },
  {
   "cell_type": "code",
   "execution_count": 81,
   "id": "560a3ad1",
   "metadata": {},
   "outputs": [
    {
     "name": "stdout",
     "output_type": "stream",
     "text": [
      "0 1 2 3 4 5 \n",
      "1 2 3 4 5 \n",
      "2 3 4 5 \n",
      "2 3 4 5 20 \n",
      "Wall time: 3.97 ms\n"
     ]
    }
   ],
   "source": [
    "%%time\n",
    "object_queue=circularQueue1(10)\n",
    "object_queue.enqueue(0)\n",
    "object_queue.enqueue(1)\n",
    "object_queue.enqueue(2)\n",
    "object_queue.enqueue(3)\n",
    "object_queue.enqueue(4)\n",
    "object_queue.enqueue(5)\n",
    "object_queue.print_cq()\n",
    "object_queue.dequeue()\n",
    "object_queue.print_cq()\n",
    "object_queue.dequeue()\n",
    "object_queue.print_cq()\n",
    "object_queue.enqueue(20)\n",
    "object_queue.print_cq()"
   ]
  },
  {
   "cell_type": "markdown",
   "id": "f05d8f54",
   "metadata": {},
   "source": [
    "Два класса выше реализуют алгоритм циклической очереди. Их отличие заключается в том, что в первом случае работа происходит с простым массивом данных, а во втором случае используется связанный список."
   ]
  },
  {
   "cell_type": "markdown",
   "id": "ce9e3a0e",
   "metadata": {},
   "source": [
    "3. На языке Python реализовать функцию, которая быстрее всего (по процессорным тикам) отсортирует данный ей массив чисел."
   ]
  },
  {
   "cell_type": "markdown",
   "id": "3f37c973",
   "metadata": {},
   "source": [
    "Реализация сортировки пузырьком. Сложность O(n^2), но при этом более меньшая константа на каждом шаге"
   ]
  },
  {
   "cell_type": "code",
   "execution_count": 98,
   "id": "ea048b9e",
   "metadata": {},
   "outputs": [],
   "source": [
    "def bubble_sort(arr):\n",
    "    i = 0\n",
    "    N=len(arr)\n",
    "    while i < N - 1:\n",
    "        j = 0\n",
    "        while j < N - 1 - i:\n",
    "            if arr[j] > arr[j+1]:\n",
    "                arr[j], arr[j+1] = arr[j+1], arr[j]\n",
    "            j += 1\n",
    "        i += 1\n",
    "    "
   ]
  },
  {
   "cell_type": "code",
   "execution_count": null,
   "id": "e2f04ef6",
   "metadata": {},
   "outputs": [],
   "source": [
    "Реализация , быстрой сортировки. Сложность O(n*log(n))"
   ]
  },
  {
   "cell_type": "code",
   "execution_count": 89,
   "id": "dd86ed44",
   "metadata": {},
   "outputs": [],
   "source": [
    "def quick_sort(arr):\n",
    "    stack=[]\n",
    "    def part_sort(left,right):\n",
    "        if right-left<=1:\n",
    "            return\n",
    "        mid=(left+right)//2\n",
    "        sep=arr[mid]\n",
    "        i=left\n",
    "        j=right\n",
    "        while True:\n",
    "            while arr[i]<sep:\n",
    "                i+=1\n",
    "            while arr[j]>sep:\n",
    "                j-=1\n",
    "            if (i<=j):\n",
    "                arr[i],arr[j]=arr[j],arr[i]\n",
    "                i+=1\n",
    "                j-=1\n",
    "            if (i>j):\n",
    "                stack.append((left,j))\n",
    "                stack.append((i,right))\n",
    "                return\n",
    "    stack.append((0,len(arr)-1))\n",
    "    while True:\n",
    "        if len(stack)==0:\n",
    "            return\n",
    "        (l,r)=stack.pop()\n",
    "        part_sort(l,r)\n",
    "        "
   ]
  },
  {
   "cell_type": "markdown",
   "id": "bad93d37",
   "metadata": {},
   "source": [
    "Сортировка маленького массива:"
   ]
  },
  {
   "cell_type": "code",
   "execution_count": 124,
   "id": "775a0749",
   "metadata": {},
   "outputs": [],
   "source": [
    "import numpy as np\n",
    "x1=np.random.rand(4)"
   ]
  },
  {
   "cell_type": "code",
   "execution_count": 125,
   "id": "f7eac162",
   "metadata": {},
   "outputs": [
    {
     "name": "stdout",
     "output_type": "stream",
     "text": [
      "6.99 µs ± 573 ns per loop (mean ± std. dev. of 7 runs, 100000 loops each)\n"
     ]
    }
   ],
   "source": [
    "%%timeit\n",
    "x=[1,2,3,10,7]\n",
    "bubble_sort(x1)"
   ]
  },
  {
   "cell_type": "code",
   "execution_count": 126,
   "id": "c3704a98",
   "metadata": {},
   "outputs": [
    {
     "name": "stdout",
     "output_type": "stream",
     "text": [
      "11.3 µs ± 1.31 µs per loop (mean ± std. dev. of 7 runs, 100000 loops each)\n"
     ]
    }
   ],
   "source": [
    "%%timeit\n",
    "quick_sort(x1)"
   ]
  },
  {
   "cell_type": "markdown",
   "id": "012ef70d",
   "metadata": {},
   "source": [
    "Сортировка большого массива:"
   ]
  },
  {
   "cell_type": "code",
   "execution_count": 130,
   "id": "08c38293",
   "metadata": {},
   "outputs": [],
   "source": [
    "x2=np.random.rand(400)"
   ]
  },
  {
   "cell_type": "code",
   "execution_count": 131,
   "id": "d464cd69",
   "metadata": {},
   "outputs": [
    {
     "name": "stdout",
     "output_type": "stream",
     "text": [
      "72.6 ms ± 8.13 ms per loop (mean ± std. dev. of 7 runs, 10 loops each)\n"
     ]
    }
   ],
   "source": [
    "%%timeit\n",
    "bubble_sort(x2)"
   ]
  },
  {
   "cell_type": "code",
   "execution_count": 132,
   "id": "2f987141",
   "metadata": {},
   "outputs": [
    {
     "name": "stdout",
     "output_type": "stream",
     "text": [
      "1.71 ms ± 109 µs per loop (mean ± std. dev. of 7 runs, 100 loops each)\n"
     ]
    }
   ],
   "source": [
    "%%timeit\n",
    "quick_sort(x2)"
   ]
  },
  {
   "cell_type": "markdown",
   "id": "67734ead",
   "metadata": {},
   "source": [
    "Из обзора различных алгоритмов сортировок было решено взять Быструю сортировку с использованием стека. Сложность алгоритма составляет О(nlogn). \n",
    "Использование стека требует больше памяти, но теоретически должно уменьшить время выполнения алгоритма. Как альтернативный вариант для сравнения было решено взять сортировку Пузырьком. Сложность алгоритма составляет О(n^2), но на каждом итеративном шаге затрачивается меньшее константное время. В результате был сделан вывод, который заключается в том, что Сортировка Пузырьком показывает лучший результат при маленькой длине масссива, а Быстрая сортировка показывает лучший результат для массивов большей длины"
   ]
  },
  {
   "cell_type": "code",
   "execution_count": null,
   "id": "45745c39",
   "metadata": {},
   "outputs": [],
   "source": []
  }
 ],
 "metadata": {
  "kernelspec": {
   "display_name": "Python 3 (ipykernel)",
   "language": "python",
   "name": "python3"
  },
  "language_info": {
   "codemirror_mode": {
    "name": "ipython",
    "version": 3
   },
   "file_extension": ".py",
   "mimetype": "text/x-python",
   "name": "python",
   "nbconvert_exporter": "python",
   "pygments_lexer": "ipython3",
   "version": "3.9.7"
  }
 },
 "nbformat": 4,
 "nbformat_minor": 5
}
